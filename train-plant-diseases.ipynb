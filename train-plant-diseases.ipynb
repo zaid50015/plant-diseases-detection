{
 "cells": [
  {
   "cell_type": "markdown",
   "id": "7a089c58",
   "metadata": {
    "execution": {
     "iopub.execute_input": "2024-04-18T15:25:13.203752Z",
     "iopub.status.busy": "2024-04-18T15:25:13.203274Z",
     "iopub.status.idle": "2024-04-18T15:25:17.199449Z",
     "shell.execute_reply": "2024-04-18T15:25:17.198074Z",
     "shell.execute_reply.started": "2024-04-18T15:25:13.203708Z"
    },
    "papermill": {
     "duration": 0.011339,
     "end_time": "2024-07-13T20:04:30.000030",
     "exception": false,
     "start_time": "2024-07-13T20:04:29.988691",
     "status": "completed"
    },
    "tags": []
   },
   "source": [
    "# Importing librabres"
   ]
  },
  {
   "cell_type": "code",
   "execution_count": 1,
   "id": "80b9fab1",
   "metadata": {
    "execution": {
     "iopub.execute_input": "2024-07-13T20:04:30.024131Z",
     "iopub.status.busy": "2024-07-13T20:04:30.023203Z",
     "iopub.status.idle": "2024-07-13T20:04:47.020667Z",
     "shell.execute_reply": "2024-07-13T20:04:47.019642Z"
    },
    "papermill": {
     "duration": 17.012275,
     "end_time": "2024-07-13T20:04:47.023222",
     "exception": false,
     "start_time": "2024-07-13T20:04:30.010947",
     "status": "completed"
    },
    "tags": []
   },
   "outputs": [],
   "source": [
    "import tensorflow as tf\n",
    "import seaborn as sns\n",
    "import matplotlib.pyplot as plt\n"
   ]
  },
  {
   "cell_type": "code",
   "execution_count": 2,
   "id": "c0beea1b",
   "metadata": {
    "execution": {
     "iopub.execute_input": "2024-07-13T20:04:47.046051Z",
     "iopub.status.busy": "2024-07-13T20:04:47.045081Z",
     "iopub.status.idle": "2024-07-13T20:04:47.050573Z",
     "shell.execute_reply": "2024-07-13T20:04:47.049622Z"
    },
    "papermill": {
     "duration": 0.018624,
     "end_time": "2024-07-13T20:04:47.052845",
     "exception": false,
     "start_time": "2024-07-13T20:04:47.034221",
     "status": "completed"
    },
    "tags": []
   },
   "outputs": [
    {
     "name": "stdout",
     "output_type": "stream",
     "text": [
      "2.15.0\n"
     ]
    }
   ],
   "source": [
    "print(tf.__version__)"
   ]
  },
  {
   "cell_type": "markdown",
   "id": "e1a7ba3b",
   "metadata": {
    "papermill": {
     "duration": 0.009835,
     "end_time": "2024-07-13T20:04:47.072585",
     "exception": false,
     "start_time": "2024-07-13T20:04:47.062750",
     "status": "completed"
    },
    "tags": []
   },
   "source": [
    "# Data Preprocessing"
   ]
  },
  {
   "cell_type": "markdown",
   "id": "13d7e57b",
   "metadata": {
    "papermill": {
     "duration": 0.010313,
     "end_time": "2024-07-13T20:04:47.092437",
     "exception": false,
     "start_time": "2024-07-13T20:04:47.082124",
     "status": "completed"
    },
    "tags": []
   },
   "source": [
    "## Training Image Preprocessing"
   ]
  },
  {
   "cell_type": "code",
   "execution_count": 3,
   "id": "5edb3888",
   "metadata": {
    "execution": {
     "iopub.execute_input": "2024-07-13T20:04:47.116114Z",
     "iopub.status.busy": "2024-07-13T20:04:47.115229Z",
     "iopub.status.idle": "2024-07-13T20:05:15.474889Z",
     "shell.execute_reply": "2024-07-13T20:05:15.473838Z"
    },
    "papermill": {
     "duration": 28.376235,
     "end_time": "2024-07-13T20:05:15.478494",
     "exception": false,
     "start_time": "2024-07-13T20:04:47.102259",
     "status": "completed"
    },
    "tags": []
   },
   "outputs": [
    {
     "name": "stdout",
     "output_type": "stream",
     "text": [
      "Found 70295 files belonging to 38 classes.\n"
     ]
    }
   ],
   "source": [
    "training_set=tf.keras.utils.image_dataset_from_directory(\n",
    "   \"/kaggle/input/new-plant-diseases-dataset/New Plant Diseases Dataset(Augmented)/New Plant Diseases Dataset(Augmented)/train\",\n",
    "    labels=\"inferred\",\n",
    "    label_mode=\"categorical\",\n",
    "    class_names=None,\n",
    "    color_mode=\"rgb\",\n",
    "    image_size=(128, 128),\n",
    "    shuffle=True,\n",
    "    seed=None,\n",
    "    validation_split=None,\n",
    "    subset=None,\n",
    "    interpolation=\"bilinear\",\n",
    "    follow_links=False,\n",
    "    crop_to_aspect_ratio=False,\n",
    "    pad_to_aspect_ratio=False,\n",
    "    data_format=None,\n",
    "    verbose=True,\n",
    ")"
   ]
  },
  {
   "cell_type": "markdown",
   "id": "5e73b8e0",
   "metadata": {
    "papermill": {
     "duration": 0.010715,
     "end_time": "2024-07-13T20:05:15.504975",
     "exception": false,
     "start_time": "2024-07-13T20:05:15.494260",
     "status": "completed"
    },
    "tags": []
   },
   "source": [
    "## Validation Preprocessing"
   ]
  },
  {
   "cell_type": "code",
   "execution_count": 4,
   "id": "d04586e2",
   "metadata": {
    "execution": {
     "iopub.execute_input": "2024-07-13T20:05:15.529167Z",
     "iopub.status.busy": "2024-07-13T20:05:15.528186Z",
     "iopub.status.idle": "2024-07-13T20:05:17.328859Z",
     "shell.execute_reply": "2024-07-13T20:05:17.327921Z"
    },
    "papermill": {
     "duration": 1.815426,
     "end_time": "2024-07-13T20:05:17.331470",
     "exception": false,
     "start_time": "2024-07-13T20:05:15.516044",
     "status": "completed"
    },
    "tags": []
   },
   "outputs": [
    {
     "name": "stdout",
     "output_type": "stream",
     "text": [
      "Found 17572 files belonging to 38 classes.\n"
     ]
    }
   ],
   "source": [
    "validation_set=tf.keras.utils.image_dataset_from_directory(\n",
    "   \"/kaggle/input/new-plant-diseases-dataset/New Plant Diseases Dataset(Augmented)/New Plant Diseases Dataset(Augmented)/valid\",\n",
    "    labels=\"inferred\",\n",
    "    label_mode=\"categorical\",\n",
    "    class_names=None,\n",
    "    color_mode=\"rgb\",\n",
    "    image_size=(128, 128),\n",
    "    shuffle=True,\n",
    "    seed=None,\n",
    "    validation_split=None,\n",
    "    subset=None,\n",
    "    interpolation=\"bilinear\",\n",
    "    follow_links=False,\n",
    "    crop_to_aspect_ratio=False,\n",
    "    pad_to_aspect_ratio=False,\n",
    "    data_format=None,\n",
    "    verbose=True,\n",
    ")"
   ]
  },
  {
   "cell_type": "code",
   "execution_count": 5,
   "id": "0b447cbf",
   "metadata": {
    "execution": {
     "iopub.execute_input": "2024-07-13T20:05:17.356071Z",
     "iopub.status.busy": "2024-07-13T20:05:17.355190Z",
     "iopub.status.idle": "2024-07-13T20:05:17.549212Z",
     "shell.execute_reply": "2024-07-13T20:05:17.547870Z"
    },
    "papermill": {
     "duration": 0.213187,
     "end_time": "2024-07-13T20:05:17.556082",
     "exception": false,
     "start_time": "2024-07-13T20:05:17.342895",
     "status": "completed"
    },
    "tags": []
   },
   "outputs": [
    {
     "name": "stdout",
     "output_type": "stream",
     "text": [
      "tf.Tensor(\n",
      "[[[[112.25 101.25 115.25]\n",
      "   [125.5  114.5  128.5 ]\n",
      "   [126.5  115.5  129.5 ]\n",
      "   ...\n",
      "   [122.25 114.25 127.25]\n",
      "   [128.5  120.5  133.5 ]\n",
      "   [113.5  105.5  118.5 ]]\n",
      "\n",
      "  [[118.75 107.75 121.75]\n",
      "   [109.    98.   112.  ]\n",
      "   [121.   110.   124.  ]\n",
      "   ...\n",
      "   [102.    94.   107.  ]\n",
      "   [121.5  113.5  126.5 ]\n",
      "   [108.25 100.25 113.25]]\n",
      "\n",
      "  [[129.   118.   132.  ]\n",
      "   [117.25 106.25 120.25]\n",
      "   [126.5  115.5  129.5 ]\n",
      "   ...\n",
      "   [101.25  93.25 106.25]\n",
      "   [105.5   97.5  110.5 ]\n",
      "   [135.5  127.5  140.5 ]]\n",
      "\n",
      "  ...\n",
      "\n",
      "  [[153.5  150.5  161.5 ]\n",
      "   [163.   160.   171.  ]\n",
      "   [180.5  177.5  188.5 ]\n",
      "   ...\n",
      "   [161.   159.   173.  ]\n",
      "   [146.5  144.5  158.5 ]\n",
      "   [166.75 164.75 178.75]]\n",
      "\n",
      "  [[172.   169.   180.  ]\n",
      "   [167.75 164.75 175.75]\n",
      "   [174.5  171.5  182.5 ]\n",
      "   ...\n",
      "   [162.5  160.5  174.5 ]\n",
      "   [167.   165.   179.  ]\n",
      "   [143.   141.   155.  ]]\n",
      "\n",
      "  [[169.75 166.75 177.75]\n",
      "   [168.5  165.5  176.5 ]\n",
      "   [163.25 160.25 171.25]\n",
      "   ...\n",
      "   [155.75 153.75 167.75]\n",
      "   [155.25 153.25 167.25]\n",
      "   [141.25 139.25 153.25]]]\n",
      "\n",
      "\n",
      " [[[155.25 140.25 145.25]\n",
      "   [170.25 155.25 160.25]\n",
      "   [160.5  145.5  150.5 ]\n",
      "   ...\n",
      "   [151.   132.   138.  ]\n",
      "   [159.75 140.75 146.75]\n",
      "   [150.   131.   137.  ]]\n",
      "\n",
      "  [[179.25 164.25 169.25]\n",
      "   [176.   161.   166.  ]\n",
      "   [167.5  152.5  157.5 ]\n",
      "   ...\n",
      "   [145.75 126.75 132.75]\n",
      "   [143.5  124.5  130.5 ]\n",
      "   [141.5  122.5  128.5 ]]\n",
      "\n",
      "  [[145.   130.   135.  ]\n",
      "   [147.5  132.5  137.5 ]\n",
      "   [159.25 144.25 149.25]\n",
      "   ...\n",
      "   [145.5  126.5  132.5 ]\n",
      "   [144.75 125.75 131.75]\n",
      "   [140.25 121.25 127.25]]\n",
      "\n",
      "  ...\n",
      "\n",
      "  [[226.25 217.75 225.5 ]\n",
      "   [219.25 209.75 218.5 ]\n",
      "   [179.25 169.25 178.25]\n",
      "   ...\n",
      "   [ 25.    28.    37.  ]\n",
      "   [ 24.5   27.5   36.5 ]\n",
      "   [ 23.    26.    35.  ]]\n",
      "\n",
      "  [[208.75 198.75 207.75]\n",
      "   [201.5  191.5  200.5 ]\n",
      "   [225.75 216.25 225.  ]\n",
      "   ...\n",
      "   [ 23.5   26.5   35.5 ]\n",
      "   [ 24.    27.    36.  ]\n",
      "   [ 23.5   26.5   35.5 ]]\n",
      "\n",
      "  [[203.25 193.25 202.25]\n",
      "   [200.   190.   199.  ]\n",
      "   [193.75 183.75 192.75]\n",
      "   ...\n",
      "   [ 24.5   27.5   36.5 ]\n",
      "   [ 25.5   28.5   37.5 ]\n",
      "   [ 25.    28.    37.  ]]]\n",
      "\n",
      "\n",
      " [[[163.75 161.75 166.75]\n",
      "   [167.   165.   170.  ]\n",
      "   [164.25 162.25 167.25]\n",
      "   ...\n",
      "   [125.   115.   114.  ]\n",
      "   [115.5  105.5  104.5 ]\n",
      "   [127.25 117.25 116.25]]\n",
      "\n",
      "  [[170.25 168.25 173.25]\n",
      "   [167.75 165.75 170.75]\n",
      "   [162.   160.   165.  ]\n",
      "   ...\n",
      "   [121.   111.   110.  ]\n",
      "   [120.5  110.5  109.5 ]\n",
      "   [127.5  117.5  116.5 ]]\n",
      "\n",
      "  [[165.25 163.25 168.25]\n",
      "   [165.25 163.25 168.25]\n",
      "   [163.   161.   166.  ]\n",
      "   ...\n",
      "   [124.   114.   113.  ]\n",
      "   [116.75 106.75 105.75]\n",
      "   [121.   111.   110.  ]]\n",
      "\n",
      "  ...\n",
      "\n",
      "  [[172.25 170.25 171.25]\n",
      "   [177.25 175.25 176.25]\n",
      "   [175.75 173.75 174.75]\n",
      "   ...\n",
      "   [118.75 106.75 106.75]\n",
      "   [124.   112.   112.  ]\n",
      "   [125.75 113.75 113.75]]\n",
      "\n",
      "  [[177.75 175.75 176.75]\n",
      "   [171.75 169.75 170.75]\n",
      "   [170.5  168.5  169.5 ]\n",
      "   ...\n",
      "   [124.75 112.75 112.75]\n",
      "   [128.75 116.75 116.75]\n",
      "   [123.25 111.25 111.25]]\n",
      "\n",
      "  [[172.   170.   171.  ]\n",
      "   [177.25 175.25 176.25]\n",
      "   [176.   174.   175.  ]\n",
      "   ...\n",
      "   [127.   115.   115.  ]\n",
      "   [121.5  109.5  109.5 ]\n",
      "   [119.5  107.5  107.5 ]]]\n",
      "\n",
      "\n",
      " ...\n",
      "\n",
      "\n",
      " [[[  0.     0.     0.  ]\n",
      "   [  0.     0.     0.  ]\n",
      "   [  0.     0.     0.  ]\n",
      "   ...\n",
      "   [  0.     0.     0.  ]\n",
      "   [  0.     0.     0.  ]\n",
      "   [  0.     0.     0.  ]]\n",
      "\n",
      "  [[  0.     0.     0.  ]\n",
      "   [  0.     0.     0.  ]\n",
      "   [  0.     0.     0.  ]\n",
      "   ...\n",
      "   [  0.     0.     0.  ]\n",
      "   [  0.     0.     0.  ]\n",
      "   [  0.     0.     0.  ]]\n",
      "\n",
      "  [[  0.     0.     0.  ]\n",
      "   [  0.     0.     0.  ]\n",
      "   [  0.     0.     0.  ]\n",
      "   ...\n",
      "   [  0.     0.     0.  ]\n",
      "   [  0.     0.     0.  ]\n",
      "   [  0.     0.     0.  ]]\n",
      "\n",
      "  ...\n",
      "\n",
      "  [[  0.     0.     0.  ]\n",
      "   [  0.     0.     0.  ]\n",
      "   [  0.     0.     0.  ]\n",
      "   ...\n",
      "   [  0.     0.     0.  ]\n",
      "   [  0.     0.     0.  ]\n",
      "   [  0.     0.     0.  ]]\n",
      "\n",
      "  [[  0.     0.     0.  ]\n",
      "   [  0.     0.     0.  ]\n",
      "   [  0.     0.     0.  ]\n",
      "   ...\n",
      "   [  0.     0.     0.  ]\n",
      "   [  0.     0.     0.  ]\n",
      "   [  0.     0.     0.  ]]\n",
      "\n",
      "  [[  0.     0.     0.  ]\n",
      "   [  0.     0.     0.  ]\n",
      "   [  0.     0.     0.  ]\n",
      "   ...\n",
      "   [  0.     0.     0.  ]\n",
      "   [  0.     0.     0.  ]\n",
      "   [  0.     0.     0.  ]]]\n",
      "\n",
      "\n",
      " [[[179.   173.   185.  ]\n",
      "   [178.   172.   184.  ]\n",
      "   [177.   171.   183.  ]\n",
      "   ...\n",
      "   [110.5  123.5  106.  ]\n",
      "   [ 86.75  84.75  84.25]\n",
      "   [105.75  94.75 105.25]]\n",
      "\n",
      "  [[178.75 172.75 184.75]\n",
      "   [178.25 172.25 184.25]\n",
      "   [177.75 171.75 183.75]\n",
      "   ...\n",
      "   [104.75 117.    99.75]\n",
      "   [ 84.    81.75  82.  ]\n",
      "   [103.    93.5  106.  ]]\n",
      "\n",
      "  [[178.5  172.5  184.5 ]\n",
      "   [178.75 172.75 184.75]\n",
      "   [179.   173.   185.  ]\n",
      "   ...\n",
      "   [121.75 132.25 116.25]\n",
      "   [ 93.5   91.    93.  ]\n",
      "   [107.75  98.25 110.75]]\n",
      "\n",
      "  ...\n",
      "\n",
      "  [[ 82.   104.75  30.75]\n",
      "   [ 61.5   88.25  19.5 ]\n",
      "   [ 56.    85.75  21.25]\n",
      "   ...\n",
      "   [120.75 110.75 121.75]\n",
      "   [117.   107.   118.  ]\n",
      "   [118.5  108.5  119.5 ]]\n",
      "\n",
      "  [[ 65.25  87.5   18.25]\n",
      "   [ 78.   105.    39.75]\n",
      "   [ 51.25  82.    20.75]\n",
      "   ...\n",
      "   [111.5  101.5  112.5 ]\n",
      "   [113.25 103.25 114.25]\n",
      "   [114.5  104.5  115.5 ]]\n",
      "\n",
      "  [[ 61.    82.5   17.75]\n",
      "   [ 59.5   85.5   24.  ]\n",
      "   [ 39.5   72.    11.75]\n",
      "   ...\n",
      "   [120.75 110.75 121.75]\n",
      "   [126.5  116.5  127.5 ]\n",
      "   [123.75 113.75 124.75]]]\n",
      "\n",
      "\n",
      " [[[163.25 155.25 166.25]\n",
      "   [164.5  156.5  167.5 ]\n",
      "   [162.   154.   165.  ]\n",
      "   ...\n",
      "   [146.5  139.5  146.5 ]\n",
      "   [145.5  138.5  145.5 ]\n",
      "   [135.   128.   135.  ]]\n",
      "\n",
      "  [[170.25 162.25 173.25]\n",
      "   [159.75 151.75 162.75]\n",
      "   [162.75 154.75 165.75]\n",
      "   ...\n",
      "   [146.25 139.25 146.25]\n",
      "   [148.5  141.5  148.5 ]\n",
      "   [162.75 155.75 162.75]]\n",
      "\n",
      "  [[161.25 153.25 164.25]\n",
      "   [157.75 149.75 160.75]\n",
      "   [163.5  155.5  166.5 ]\n",
      "   ...\n",
      "   [138.   131.   138.  ]\n",
      "   [139.25 132.25 139.25]\n",
      "   [147.25 140.25 147.25]]\n",
      "\n",
      "  ...\n",
      "\n",
      "  [[177.   169.   180.  ]\n",
      "   [172.5  164.5  175.5 ]\n",
      "   [171.5  163.5  174.5 ]\n",
      "   ...\n",
      "   [178.5  171.5  178.5 ]\n",
      "   [179.   172.   179.  ]\n",
      "   [177.25 170.25 177.25]]\n",
      "\n",
      "  [[172.75 164.75 175.75]\n",
      "   [174.5  166.5  177.5 ]\n",
      "   [174.25 166.25 177.25]\n",
      "   ...\n",
      "   [172.25 165.25 172.25]\n",
      "   [176.25 169.25 176.25]\n",
      "   [175.   168.   175.  ]]\n",
      "\n",
      "  [[167.   159.   170.  ]\n",
      "   [170.   162.   173.  ]\n",
      "   [172.25 164.25 175.25]\n",
      "   ...\n",
      "   [181.   174.   181.  ]\n",
      "   [171.   164.   171.  ]\n",
      "   [178.5  171.5  178.5 ]]]], shape=(32, 128, 128, 3), dtype=float32) (32, 128, 128, 3)\n",
      "tf.Tensor(\n",
      "[[0. 0. 0. ... 0. 0. 1.]\n",
      " [0. 0. 0. ... 0. 0. 0.]\n",
      " [0. 0. 0. ... 0. 0. 0.]\n",
      " ...\n",
      " [0. 1. 0. ... 0. 0. 0.]\n",
      " [0. 0. 0. ... 0. 0. 0.]\n",
      " [0. 0. 0. ... 0. 0. 0.]], shape=(32, 38), dtype=float32) (32, 38)\n"
     ]
    }
   ],
   "source": [
    "for x,y in training_set:\n",
    "    print(x,x.shape)\n",
    "    print(y,y.shape)\n",
    "    break\n"
   ]
  },
  {
   "cell_type": "markdown",
   "id": "07feb629",
   "metadata": {
    "papermill": {
     "duration": 0.011995,
     "end_time": "2024-07-13T20:05:17.582950",
     "exception": false,
     "start_time": "2024-07-13T20:05:17.570955",
     "status": "completed"
    },
    "tags": []
   },
   "source": [
    "## Building Model"
   ]
  },
  {
   "cell_type": "code",
   "execution_count": 6,
   "id": "51daa936",
   "metadata": {
    "execution": {
     "iopub.execute_input": "2024-07-13T20:05:17.609230Z",
     "iopub.status.busy": "2024-07-13T20:05:17.608792Z",
     "iopub.status.idle": "2024-07-13T20:05:17.617833Z",
     "shell.execute_reply": "2024-07-13T20:05:17.616946Z"
    },
    "papermill": {
     "duration": 0.024795,
     "end_time": "2024-07-13T20:05:17.620026",
     "exception": false,
     "start_time": "2024-07-13T20:05:17.595231",
     "status": "completed"
    },
    "tags": []
   },
   "outputs": [],
   "source": [
    "from tensorflow.keras.layers import Dense,Conv2D,MaxPool2D,Flatten,Dropout\n",
    "from tensorflow.keras.models import Sequential"
   ]
  },
  {
   "cell_type": "code",
   "execution_count": 7,
   "id": "4a82d05a",
   "metadata": {
    "execution": {
     "iopub.execute_input": "2024-07-13T20:05:17.645108Z",
     "iopub.status.busy": "2024-07-13T20:05:17.644801Z",
     "iopub.status.idle": "2024-07-13T20:05:17.651427Z",
     "shell.execute_reply": "2024-07-13T20:05:17.650444Z"
    },
    "papermill": {
     "duration": 0.021429,
     "end_time": "2024-07-13T20:05:17.653605",
     "exception": false,
     "start_time": "2024-07-13T20:05:17.632176",
     "status": "completed"
    },
    "tags": []
   },
   "outputs": [],
   "source": [
    "model =Sequential()"
   ]
  },
  {
   "cell_type": "markdown",
   "id": "94c3291f",
   "metadata": {
    "papermill": {
     "duration": 0.011419,
     "end_time": "2024-07-13T20:05:17.677092",
     "exception": false,
     "start_time": "2024-07-13T20:05:17.665673",
     "status": "completed"
    },
    "tags": []
   },
   "source": [
    "## Builiding Convolutional Layer"
   ]
  },
  {
   "cell_type": "code",
   "execution_count": 8,
   "id": "8b03a700",
   "metadata": {
    "execution": {
     "iopub.execute_input": "2024-07-13T20:05:17.701041Z",
     "iopub.status.busy": "2024-07-13T20:05:17.700327Z",
     "iopub.status.idle": "2024-07-13T20:05:17.776337Z",
     "shell.execute_reply": "2024-07-13T20:05:17.775421Z"
    },
    "papermill": {
     "duration": 0.090309,
     "end_time": "2024-07-13T20:05:17.778605",
     "exception": false,
     "start_time": "2024-07-13T20:05:17.688296",
     "status": "completed"
    },
    "tags": []
   },
   "outputs": [
    {
     "name": "stderr",
     "output_type": "stream",
     "text": [
      "/opt/conda/lib/python3.10/site-packages/keras/src/layers/convolutional/base_conv.py:107: UserWarning: Do not pass an `input_shape`/`input_dim` argument to a layer. When using Sequential models, prefer using an `Input(shape)` object as the first layer in the model instead.\n",
      "  super().__init__(activity_regularizer=activity_regularizer, **kwargs)\n"
     ]
    }
   ],
   "source": [
    "model.add(Conv2D(filters=32, kernel_size=(3,3), padding='same', activation='relu', input_shape=[128, 128, 3]))\n",
    "model.add(Conv2D(filters=32, kernel_size=(3,3), activation='relu'))\n",
    "model.add(MaxPool2D(pool_size=2,strides=2))"
   ]
  },
  {
   "cell_type": "code",
   "execution_count": 9,
   "id": "3db13697",
   "metadata": {
    "execution": {
     "iopub.execute_input": "2024-07-13T20:05:17.803724Z",
     "iopub.status.busy": "2024-07-13T20:05:17.803025Z",
     "iopub.status.idle": "2024-07-13T20:05:17.841442Z",
     "shell.execute_reply": "2024-07-13T20:05:17.840694Z"
    },
    "papermill": {
     "duration": 0.053263,
     "end_time": "2024-07-13T20:05:17.843591",
     "exception": false,
     "start_time": "2024-07-13T20:05:17.790328",
     "status": "completed"
    },
    "tags": []
   },
   "outputs": [],
   "source": [
    "model.add(Conv2D(filters=64, kernel_size=(3,3), padding='same', activation='relu'))\n",
    "model.add(Conv2D(filters=64, kernel_size=(3,3), activation='relu'))\n",
    "model.add(MaxPool2D(pool_size=2,strides=2))"
   ]
  },
  {
   "cell_type": "code",
   "execution_count": 10,
   "id": "432db0dc",
   "metadata": {
    "execution": {
     "iopub.execute_input": "2024-07-13T20:05:17.868658Z",
     "iopub.status.busy": "2024-07-13T20:05:17.867782Z",
     "iopub.status.idle": "2024-07-13T20:05:17.915073Z",
     "shell.execute_reply": "2024-07-13T20:05:17.914241Z"
    },
    "papermill": {
     "duration": 0.062694,
     "end_time": "2024-07-13T20:05:17.917597",
     "exception": false,
     "start_time": "2024-07-13T20:05:17.854903",
     "status": "completed"
    },
    "tags": []
   },
   "outputs": [],
   "source": [
    "model.add(Conv2D(filters=128, kernel_size=(3,3), padding='same', activation='relu'))\n",
    "model.add(Conv2D(filters=128, kernel_size=(3,3), activation='relu'))\n",
    "model.add(MaxPool2D(pool_size=2,strides=2))"
   ]
  },
  {
   "cell_type": "code",
   "execution_count": 11,
   "id": "ed2e0237",
   "metadata": {
    "execution": {
     "iopub.execute_input": "2024-07-13T20:05:17.942330Z",
     "iopub.status.busy": "2024-07-13T20:05:17.941505Z",
     "iopub.status.idle": "2024-07-13T20:05:17.989474Z",
     "shell.execute_reply": "2024-07-13T20:05:17.988698Z"
    },
    "papermill": {
     "duration": 0.0631,
     "end_time": "2024-07-13T20:05:17.991838",
     "exception": false,
     "start_time": "2024-07-13T20:05:17.928738",
     "status": "completed"
    },
    "tags": []
   },
   "outputs": [],
   "source": [
    "model.add(Conv2D(filters=256, kernel_size=(3,3), padding='same', activation='relu'))\n",
    "model.add(Conv2D(filters=256, kernel_size=(3,3),  activation='relu'))\n",
    "model.add(MaxPool2D(pool_size=2,strides=2))"
   ]
  },
  {
   "cell_type": "code",
   "execution_count": 12,
   "id": "e328c935",
   "metadata": {
    "execution": {
     "iopub.execute_input": "2024-07-13T20:05:18.016508Z",
     "iopub.status.busy": "2024-07-13T20:05:18.015807Z",
     "iopub.status.idle": "2024-07-13T20:05:18.073838Z",
     "shell.execute_reply": "2024-07-13T20:05:18.073018Z"
    },
    "papermill": {
     "duration": 0.07288,
     "end_time": "2024-07-13T20:05:18.076219",
     "exception": false,
     "start_time": "2024-07-13T20:05:18.003339",
     "status": "completed"
    },
    "tags": []
   },
   "outputs": [],
   "source": [
    "model.add(Conv2D(filters=512, kernel_size=(3,3), padding='same', activation='relu'))\n",
    "model.add(Conv2D(filters=512, kernel_size=(3,3),  activation='relu'))\n",
    "model.add(MaxPool2D(pool_size=2,strides=2))"
   ]
  },
  {
   "cell_type": "code",
   "execution_count": 13,
   "id": "a150139a",
   "metadata": {
    "execution": {
     "iopub.execute_input": "2024-07-13T20:05:18.100726Z",
     "iopub.status.busy": "2024-07-13T20:05:18.099874Z",
     "iopub.status.idle": "2024-07-13T20:05:18.121157Z",
     "shell.execute_reply": "2024-07-13T20:05:18.120304Z"
    },
    "papermill": {
     "duration": 0.036057,
     "end_time": "2024-07-13T20:05:18.123632",
     "exception": false,
     "start_time": "2024-07-13T20:05:18.087575",
     "status": "completed"
    },
    "tags": []
   },
   "outputs": [],
   "source": [
    "model.add(Dropout(0.25))"
   ]
  },
  {
   "cell_type": "code",
   "execution_count": 14,
   "id": "3809c2c2",
   "metadata": {
    "execution": {
     "iopub.execute_input": "2024-07-13T20:05:18.148440Z",
     "iopub.status.busy": "2024-07-13T20:05:18.147777Z",
     "iopub.status.idle": "2024-07-13T20:05:18.166124Z",
     "shell.execute_reply": "2024-07-13T20:05:18.165040Z"
    },
    "papermill": {
     "duration": 0.03292,
     "end_time": "2024-07-13T20:05:18.168249",
     "exception": false,
     "start_time": "2024-07-13T20:05:18.135329",
     "status": "completed"
    },
    "tags": []
   },
   "outputs": [],
   "source": [
    "model.add(Flatten())"
   ]
  },
  {
   "cell_type": "code",
   "execution_count": 15,
   "id": "11762b1d",
   "metadata": {
    "execution": {
     "iopub.execute_input": "2024-07-13T20:05:18.194284Z",
     "iopub.status.busy": "2024-07-13T20:05:18.193409Z",
     "iopub.status.idle": "2024-07-13T20:05:18.221197Z",
     "shell.execute_reply": "2024-07-13T20:05:18.220360Z"
    },
    "papermill": {
     "duration": 0.043331,
     "end_time": "2024-07-13T20:05:18.223452",
     "exception": false,
     "start_time": "2024-07-13T20:05:18.180121",
     "status": "completed"
    },
    "tags": []
   },
   "outputs": [],
   "source": [
    "model.add(Dense(units=1500,activation='relu'))"
   ]
  },
  {
   "cell_type": "code",
   "execution_count": 16,
   "id": "1d6737ef",
   "metadata": {
    "execution": {
     "iopub.execute_input": "2024-07-13T20:05:18.247029Z",
     "iopub.status.busy": "2024-07-13T20:05:18.246683Z",
     "iopub.status.idle": "2024-07-13T20:05:18.267620Z",
     "shell.execute_reply": "2024-07-13T20:05:18.266675Z"
    },
    "papermill": {
     "duration": 0.035242,
     "end_time": "2024-07-13T20:05:18.269920",
     "exception": false,
     "start_time": "2024-07-13T20:05:18.234678",
     "status": "completed"
    },
    "tags": []
   },
   "outputs": [],
   "source": [
    "model.add(Dropout(0.35))"
   ]
  },
  {
   "cell_type": "markdown",
   "id": "18f24180",
   "metadata": {
    "papermill": {
     "duration": 0.01096,
     "end_time": "2024-07-13T20:05:18.292292",
     "exception": false,
     "start_time": "2024-07-13T20:05:18.281332",
     "status": "completed"
    },
    "tags": []
   },
   "source": [
    "## Output Layer\n"
   ]
  },
  {
   "cell_type": "code",
   "execution_count": 17,
   "id": "64ce5552",
   "metadata": {
    "execution": {
     "iopub.execute_input": "2024-07-13T20:05:18.315778Z",
     "iopub.status.busy": "2024-07-13T20:05:18.315405Z",
     "iopub.status.idle": "2024-07-13T20:05:18.344548Z",
     "shell.execute_reply": "2024-07-13T20:05:18.343511Z"
    },
    "papermill": {
     "duration": 0.043711,
     "end_time": "2024-07-13T20:05:18.347223",
     "exception": false,
     "start_time": "2024-07-13T20:05:18.303512",
     "status": "completed"
    },
    "tags": []
   },
   "outputs": [],
   "source": [
    "model.add(Dense(units=38,activation='softmax'))"
   ]
  },
  {
   "cell_type": "code",
   "execution_count": 18,
   "id": "16a1fdc3",
   "metadata": {
    "execution": {
     "iopub.execute_input": "2024-07-13T20:05:18.372686Z",
     "iopub.status.busy": "2024-07-13T20:05:18.371849Z",
     "iopub.status.idle": "2024-07-13T20:05:18.604796Z",
     "shell.execute_reply": "2024-07-13T20:05:18.603755Z"
    },
    "papermill": {
     "duration": 0.248507,
     "end_time": "2024-07-13T20:05:18.607308",
     "exception": false,
     "start_time": "2024-07-13T20:05:18.358801",
     "status": "completed"
    },
    "tags": []
   },
   "outputs": [],
   "source": [
    "opt = tf.keras.optimizers.Adam(learning_rate=0.0001)\n",
    "model.compile(loss='categorical_crossentropy', optimizer=opt,metrics=['accuracy'])"
   ]
  },
  {
   "cell_type": "code",
   "execution_count": 19,
   "id": "e0d65b4a",
   "metadata": {
    "execution": {
     "iopub.execute_input": "2024-07-13T20:05:18.632986Z",
     "iopub.status.busy": "2024-07-13T20:05:18.632571Z",
     "iopub.status.idle": "2024-07-13T20:05:18.675972Z",
     "shell.execute_reply": "2024-07-13T20:05:18.674922Z"
    },
    "papermill": {
     "duration": 0.059482,
     "end_time": "2024-07-13T20:05:18.678237",
     "exception": false,
     "start_time": "2024-07-13T20:05:18.618755",
     "status": "completed"
    },
    "tags": []
   },
   "outputs": [
    {
     "data": {
      "text/html": [
       "<pre style=\"white-space:pre;overflow-x:auto;line-height:normal;font-family:Menlo,'DejaVu Sans Mono',consolas,'Courier New',monospace\"><span style=\"font-weight: bold\">Model: \"sequential\"</span>\n",
       "</pre>\n"
      ],
      "text/plain": [
       "\u001b[1mModel: \"sequential\"\u001b[0m\n"
      ]
     },
     "metadata": {},
     "output_type": "display_data"
    },
    {
     "data": {
      "text/html": [
       "<pre style=\"white-space:pre;overflow-x:auto;line-height:normal;font-family:Menlo,'DejaVu Sans Mono',consolas,'Courier New',monospace\">┏━━━━━━━━━━━━━━━━━━━━━━━━━━━━━━━━━┳━━━━━━━━━━━━━━━━━━━━━━━━┳━━━━━━━━━━━━━━━┓\n",
       "┃<span style=\"font-weight: bold\"> Layer (type)                    </span>┃<span style=\"font-weight: bold\"> Output Shape           </span>┃<span style=\"font-weight: bold\">       Param # </span>┃\n",
       "┡━━━━━━━━━━━━━━━━━━━━━━━━━━━━━━━━━╇━━━━━━━━━━━━━━━━━━━━━━━━╇━━━━━━━━━━━━━━━┩\n",
       "│ conv2d (<span style=\"color: #0087ff; text-decoration-color: #0087ff\">Conv2D</span>)                 │ (<span style=\"color: #00d7ff; text-decoration-color: #00d7ff\">None</span>, <span style=\"color: #00af00; text-decoration-color: #00af00\">128</span>, <span style=\"color: #00af00; text-decoration-color: #00af00\">128</span>, <span style=\"color: #00af00; text-decoration-color: #00af00\">32</span>)   │           <span style=\"color: #00af00; text-decoration-color: #00af00\">896</span> │\n",
       "├─────────────────────────────────┼────────────────────────┼───────────────┤\n",
       "│ conv2d_1 (<span style=\"color: #0087ff; text-decoration-color: #0087ff\">Conv2D</span>)               │ (<span style=\"color: #00d7ff; text-decoration-color: #00d7ff\">None</span>, <span style=\"color: #00af00; text-decoration-color: #00af00\">126</span>, <span style=\"color: #00af00; text-decoration-color: #00af00\">126</span>, <span style=\"color: #00af00; text-decoration-color: #00af00\">32</span>)   │         <span style=\"color: #00af00; text-decoration-color: #00af00\">9,248</span> │\n",
       "├─────────────────────────────────┼────────────────────────┼───────────────┤\n",
       "│ max_pooling2d (<span style=\"color: #0087ff; text-decoration-color: #0087ff\">MaxPooling2D</span>)    │ (<span style=\"color: #00d7ff; text-decoration-color: #00d7ff\">None</span>, <span style=\"color: #00af00; text-decoration-color: #00af00\">63</span>, <span style=\"color: #00af00; text-decoration-color: #00af00\">63</span>, <span style=\"color: #00af00; text-decoration-color: #00af00\">32</span>)     │             <span style=\"color: #00af00; text-decoration-color: #00af00\">0</span> │\n",
       "├─────────────────────────────────┼────────────────────────┼───────────────┤\n",
       "│ conv2d_2 (<span style=\"color: #0087ff; text-decoration-color: #0087ff\">Conv2D</span>)               │ (<span style=\"color: #00d7ff; text-decoration-color: #00d7ff\">None</span>, <span style=\"color: #00af00; text-decoration-color: #00af00\">63</span>, <span style=\"color: #00af00; text-decoration-color: #00af00\">63</span>, <span style=\"color: #00af00; text-decoration-color: #00af00\">64</span>)     │        <span style=\"color: #00af00; text-decoration-color: #00af00\">18,496</span> │\n",
       "├─────────────────────────────────┼────────────────────────┼───────────────┤\n",
       "│ conv2d_3 (<span style=\"color: #0087ff; text-decoration-color: #0087ff\">Conv2D</span>)               │ (<span style=\"color: #00d7ff; text-decoration-color: #00d7ff\">None</span>, <span style=\"color: #00af00; text-decoration-color: #00af00\">61</span>, <span style=\"color: #00af00; text-decoration-color: #00af00\">61</span>, <span style=\"color: #00af00; text-decoration-color: #00af00\">64</span>)     │        <span style=\"color: #00af00; text-decoration-color: #00af00\">36,928</span> │\n",
       "├─────────────────────────────────┼────────────────────────┼───────────────┤\n",
       "│ max_pooling2d_1 (<span style=\"color: #0087ff; text-decoration-color: #0087ff\">MaxPooling2D</span>)  │ (<span style=\"color: #00d7ff; text-decoration-color: #00d7ff\">None</span>, <span style=\"color: #00af00; text-decoration-color: #00af00\">30</span>, <span style=\"color: #00af00; text-decoration-color: #00af00\">30</span>, <span style=\"color: #00af00; text-decoration-color: #00af00\">64</span>)     │             <span style=\"color: #00af00; text-decoration-color: #00af00\">0</span> │\n",
       "├─────────────────────────────────┼────────────────────────┼───────────────┤\n",
       "│ conv2d_4 (<span style=\"color: #0087ff; text-decoration-color: #0087ff\">Conv2D</span>)               │ (<span style=\"color: #00d7ff; text-decoration-color: #00d7ff\">None</span>, <span style=\"color: #00af00; text-decoration-color: #00af00\">30</span>, <span style=\"color: #00af00; text-decoration-color: #00af00\">30</span>, <span style=\"color: #00af00; text-decoration-color: #00af00\">128</span>)    │        <span style=\"color: #00af00; text-decoration-color: #00af00\">73,856</span> │\n",
       "├─────────────────────────────────┼────────────────────────┼───────────────┤\n",
       "│ conv2d_5 (<span style=\"color: #0087ff; text-decoration-color: #0087ff\">Conv2D</span>)               │ (<span style=\"color: #00d7ff; text-decoration-color: #00d7ff\">None</span>, <span style=\"color: #00af00; text-decoration-color: #00af00\">28</span>, <span style=\"color: #00af00; text-decoration-color: #00af00\">28</span>, <span style=\"color: #00af00; text-decoration-color: #00af00\">128</span>)    │       <span style=\"color: #00af00; text-decoration-color: #00af00\">147,584</span> │\n",
       "├─────────────────────────────────┼────────────────────────┼───────────────┤\n",
       "│ max_pooling2d_2 (<span style=\"color: #0087ff; text-decoration-color: #0087ff\">MaxPooling2D</span>)  │ (<span style=\"color: #00d7ff; text-decoration-color: #00d7ff\">None</span>, <span style=\"color: #00af00; text-decoration-color: #00af00\">14</span>, <span style=\"color: #00af00; text-decoration-color: #00af00\">14</span>, <span style=\"color: #00af00; text-decoration-color: #00af00\">128</span>)    │             <span style=\"color: #00af00; text-decoration-color: #00af00\">0</span> │\n",
       "├─────────────────────────────────┼────────────────────────┼───────────────┤\n",
       "│ conv2d_6 (<span style=\"color: #0087ff; text-decoration-color: #0087ff\">Conv2D</span>)               │ (<span style=\"color: #00d7ff; text-decoration-color: #00d7ff\">None</span>, <span style=\"color: #00af00; text-decoration-color: #00af00\">14</span>, <span style=\"color: #00af00; text-decoration-color: #00af00\">14</span>, <span style=\"color: #00af00; text-decoration-color: #00af00\">256</span>)    │       <span style=\"color: #00af00; text-decoration-color: #00af00\">295,168</span> │\n",
       "├─────────────────────────────────┼────────────────────────┼───────────────┤\n",
       "│ conv2d_7 (<span style=\"color: #0087ff; text-decoration-color: #0087ff\">Conv2D</span>)               │ (<span style=\"color: #00d7ff; text-decoration-color: #00d7ff\">None</span>, <span style=\"color: #00af00; text-decoration-color: #00af00\">12</span>, <span style=\"color: #00af00; text-decoration-color: #00af00\">12</span>, <span style=\"color: #00af00; text-decoration-color: #00af00\">256</span>)    │       <span style=\"color: #00af00; text-decoration-color: #00af00\">590,080</span> │\n",
       "├─────────────────────────────────┼────────────────────────┼───────────────┤\n",
       "│ max_pooling2d_3 (<span style=\"color: #0087ff; text-decoration-color: #0087ff\">MaxPooling2D</span>)  │ (<span style=\"color: #00d7ff; text-decoration-color: #00d7ff\">None</span>, <span style=\"color: #00af00; text-decoration-color: #00af00\">6</span>, <span style=\"color: #00af00; text-decoration-color: #00af00\">6</span>, <span style=\"color: #00af00; text-decoration-color: #00af00\">256</span>)      │             <span style=\"color: #00af00; text-decoration-color: #00af00\">0</span> │\n",
       "├─────────────────────────────────┼────────────────────────┼───────────────┤\n",
       "│ conv2d_8 (<span style=\"color: #0087ff; text-decoration-color: #0087ff\">Conv2D</span>)               │ (<span style=\"color: #00d7ff; text-decoration-color: #00d7ff\">None</span>, <span style=\"color: #00af00; text-decoration-color: #00af00\">6</span>, <span style=\"color: #00af00; text-decoration-color: #00af00\">6</span>, <span style=\"color: #00af00; text-decoration-color: #00af00\">512</span>)      │     <span style=\"color: #00af00; text-decoration-color: #00af00\">1,180,160</span> │\n",
       "├─────────────────────────────────┼────────────────────────┼───────────────┤\n",
       "│ conv2d_9 (<span style=\"color: #0087ff; text-decoration-color: #0087ff\">Conv2D</span>)               │ (<span style=\"color: #00d7ff; text-decoration-color: #00d7ff\">None</span>, <span style=\"color: #00af00; text-decoration-color: #00af00\">4</span>, <span style=\"color: #00af00; text-decoration-color: #00af00\">4</span>, <span style=\"color: #00af00; text-decoration-color: #00af00\">512</span>)      │     <span style=\"color: #00af00; text-decoration-color: #00af00\">2,359,808</span> │\n",
       "├─────────────────────────────────┼────────────────────────┼───────────────┤\n",
       "│ max_pooling2d_4 (<span style=\"color: #0087ff; text-decoration-color: #0087ff\">MaxPooling2D</span>)  │ (<span style=\"color: #00d7ff; text-decoration-color: #00d7ff\">None</span>, <span style=\"color: #00af00; text-decoration-color: #00af00\">2</span>, <span style=\"color: #00af00; text-decoration-color: #00af00\">2</span>, <span style=\"color: #00af00; text-decoration-color: #00af00\">512</span>)      │             <span style=\"color: #00af00; text-decoration-color: #00af00\">0</span> │\n",
       "├─────────────────────────────────┼────────────────────────┼───────────────┤\n",
       "│ dropout (<span style=\"color: #0087ff; text-decoration-color: #0087ff\">Dropout</span>)               │ (<span style=\"color: #00d7ff; text-decoration-color: #00d7ff\">None</span>, <span style=\"color: #00af00; text-decoration-color: #00af00\">2</span>, <span style=\"color: #00af00; text-decoration-color: #00af00\">2</span>, <span style=\"color: #00af00; text-decoration-color: #00af00\">512</span>)      │             <span style=\"color: #00af00; text-decoration-color: #00af00\">0</span> │\n",
       "├─────────────────────────────────┼────────────────────────┼───────────────┤\n",
       "│ flatten (<span style=\"color: #0087ff; text-decoration-color: #0087ff\">Flatten</span>)               │ (<span style=\"color: #00d7ff; text-decoration-color: #00d7ff\">None</span>, <span style=\"color: #00af00; text-decoration-color: #00af00\">2048</span>)           │             <span style=\"color: #00af00; text-decoration-color: #00af00\">0</span> │\n",
       "├─────────────────────────────────┼────────────────────────┼───────────────┤\n",
       "│ dense (<span style=\"color: #0087ff; text-decoration-color: #0087ff\">Dense</span>)                   │ (<span style=\"color: #00d7ff; text-decoration-color: #00d7ff\">None</span>, <span style=\"color: #00af00; text-decoration-color: #00af00\">1500</span>)           │     <span style=\"color: #00af00; text-decoration-color: #00af00\">3,073,500</span> │\n",
       "├─────────────────────────────────┼────────────────────────┼───────────────┤\n",
       "│ dropout_1 (<span style=\"color: #0087ff; text-decoration-color: #0087ff\">Dropout</span>)             │ (<span style=\"color: #00d7ff; text-decoration-color: #00d7ff\">None</span>, <span style=\"color: #00af00; text-decoration-color: #00af00\">1500</span>)           │             <span style=\"color: #00af00; text-decoration-color: #00af00\">0</span> │\n",
       "├─────────────────────────────────┼────────────────────────┼───────────────┤\n",
       "│ dense_1 (<span style=\"color: #0087ff; text-decoration-color: #0087ff\">Dense</span>)                 │ (<span style=\"color: #00d7ff; text-decoration-color: #00d7ff\">None</span>, <span style=\"color: #00af00; text-decoration-color: #00af00\">38</span>)             │        <span style=\"color: #00af00; text-decoration-color: #00af00\">57,038</span> │\n",
       "└─────────────────────────────────┴────────────────────────┴───────────────┘\n",
       "</pre>\n"
      ],
      "text/plain": [
       "┏━━━━━━━━━━━━━━━━━━━━━━━━━━━━━━━━━┳━━━━━━━━━━━━━━━━━━━━━━━━┳━━━━━━━━━━━━━━━┓\n",
       "┃\u001b[1m \u001b[0m\u001b[1mLayer (type)                   \u001b[0m\u001b[1m \u001b[0m┃\u001b[1m \u001b[0m\u001b[1mOutput Shape          \u001b[0m\u001b[1m \u001b[0m┃\u001b[1m \u001b[0m\u001b[1m      Param #\u001b[0m\u001b[1m \u001b[0m┃\n",
       "┡━━━━━━━━━━━━━━━━━━━━━━━━━━━━━━━━━╇━━━━━━━━━━━━━━━━━━━━━━━━╇━━━━━━━━━━━━━━━┩\n",
       "│ conv2d (\u001b[38;5;33mConv2D\u001b[0m)                 │ (\u001b[38;5;45mNone\u001b[0m, \u001b[38;5;34m128\u001b[0m, \u001b[38;5;34m128\u001b[0m, \u001b[38;5;34m32\u001b[0m)   │           \u001b[38;5;34m896\u001b[0m │\n",
       "├─────────────────────────────────┼────────────────────────┼───────────────┤\n",
       "│ conv2d_1 (\u001b[38;5;33mConv2D\u001b[0m)               │ (\u001b[38;5;45mNone\u001b[0m, \u001b[38;5;34m126\u001b[0m, \u001b[38;5;34m126\u001b[0m, \u001b[38;5;34m32\u001b[0m)   │         \u001b[38;5;34m9,248\u001b[0m │\n",
       "├─────────────────────────────────┼────────────────────────┼───────────────┤\n",
       "│ max_pooling2d (\u001b[38;5;33mMaxPooling2D\u001b[0m)    │ (\u001b[38;5;45mNone\u001b[0m, \u001b[38;5;34m63\u001b[0m, \u001b[38;5;34m63\u001b[0m, \u001b[38;5;34m32\u001b[0m)     │             \u001b[38;5;34m0\u001b[0m │\n",
       "├─────────────────────────────────┼────────────────────────┼───────────────┤\n",
       "│ conv2d_2 (\u001b[38;5;33mConv2D\u001b[0m)               │ (\u001b[38;5;45mNone\u001b[0m, \u001b[38;5;34m63\u001b[0m, \u001b[38;5;34m63\u001b[0m, \u001b[38;5;34m64\u001b[0m)     │        \u001b[38;5;34m18,496\u001b[0m │\n",
       "├─────────────────────────────────┼────────────────────────┼───────────────┤\n",
       "│ conv2d_3 (\u001b[38;5;33mConv2D\u001b[0m)               │ (\u001b[38;5;45mNone\u001b[0m, \u001b[38;5;34m61\u001b[0m, \u001b[38;5;34m61\u001b[0m, \u001b[38;5;34m64\u001b[0m)     │        \u001b[38;5;34m36,928\u001b[0m │\n",
       "├─────────────────────────────────┼────────────────────────┼───────────────┤\n",
       "│ max_pooling2d_1 (\u001b[38;5;33mMaxPooling2D\u001b[0m)  │ (\u001b[38;5;45mNone\u001b[0m, \u001b[38;5;34m30\u001b[0m, \u001b[38;5;34m30\u001b[0m, \u001b[38;5;34m64\u001b[0m)     │             \u001b[38;5;34m0\u001b[0m │\n",
       "├─────────────────────────────────┼────────────────────────┼───────────────┤\n",
       "│ conv2d_4 (\u001b[38;5;33mConv2D\u001b[0m)               │ (\u001b[38;5;45mNone\u001b[0m, \u001b[38;5;34m30\u001b[0m, \u001b[38;5;34m30\u001b[0m, \u001b[38;5;34m128\u001b[0m)    │        \u001b[38;5;34m73,856\u001b[0m │\n",
       "├─────────────────────────────────┼────────────────────────┼───────────────┤\n",
       "│ conv2d_5 (\u001b[38;5;33mConv2D\u001b[0m)               │ (\u001b[38;5;45mNone\u001b[0m, \u001b[38;5;34m28\u001b[0m, \u001b[38;5;34m28\u001b[0m, \u001b[38;5;34m128\u001b[0m)    │       \u001b[38;5;34m147,584\u001b[0m │\n",
       "├─────────────────────────────────┼────────────────────────┼───────────────┤\n",
       "│ max_pooling2d_2 (\u001b[38;5;33mMaxPooling2D\u001b[0m)  │ (\u001b[38;5;45mNone\u001b[0m, \u001b[38;5;34m14\u001b[0m, \u001b[38;5;34m14\u001b[0m, \u001b[38;5;34m128\u001b[0m)    │             \u001b[38;5;34m0\u001b[0m │\n",
       "├─────────────────────────────────┼────────────────────────┼───────────────┤\n",
       "│ conv2d_6 (\u001b[38;5;33mConv2D\u001b[0m)               │ (\u001b[38;5;45mNone\u001b[0m, \u001b[38;5;34m14\u001b[0m, \u001b[38;5;34m14\u001b[0m, \u001b[38;5;34m256\u001b[0m)    │       \u001b[38;5;34m295,168\u001b[0m │\n",
       "├─────────────────────────────────┼────────────────────────┼───────────────┤\n",
       "│ conv2d_7 (\u001b[38;5;33mConv2D\u001b[0m)               │ (\u001b[38;5;45mNone\u001b[0m, \u001b[38;5;34m12\u001b[0m, \u001b[38;5;34m12\u001b[0m, \u001b[38;5;34m256\u001b[0m)    │       \u001b[38;5;34m590,080\u001b[0m │\n",
       "├─────────────────────────────────┼────────────────────────┼───────────────┤\n",
       "│ max_pooling2d_3 (\u001b[38;5;33mMaxPooling2D\u001b[0m)  │ (\u001b[38;5;45mNone\u001b[0m, \u001b[38;5;34m6\u001b[0m, \u001b[38;5;34m6\u001b[0m, \u001b[38;5;34m256\u001b[0m)      │             \u001b[38;5;34m0\u001b[0m │\n",
       "├─────────────────────────────────┼────────────────────────┼───────────────┤\n",
       "│ conv2d_8 (\u001b[38;5;33mConv2D\u001b[0m)               │ (\u001b[38;5;45mNone\u001b[0m, \u001b[38;5;34m6\u001b[0m, \u001b[38;5;34m6\u001b[0m, \u001b[38;5;34m512\u001b[0m)      │     \u001b[38;5;34m1,180,160\u001b[0m │\n",
       "├─────────────────────────────────┼────────────────────────┼───────────────┤\n",
       "│ conv2d_9 (\u001b[38;5;33mConv2D\u001b[0m)               │ (\u001b[38;5;45mNone\u001b[0m, \u001b[38;5;34m4\u001b[0m, \u001b[38;5;34m4\u001b[0m, \u001b[38;5;34m512\u001b[0m)      │     \u001b[38;5;34m2,359,808\u001b[0m │\n",
       "├─────────────────────────────────┼────────────────────────┼───────────────┤\n",
       "│ max_pooling2d_4 (\u001b[38;5;33mMaxPooling2D\u001b[0m)  │ (\u001b[38;5;45mNone\u001b[0m, \u001b[38;5;34m2\u001b[0m, \u001b[38;5;34m2\u001b[0m, \u001b[38;5;34m512\u001b[0m)      │             \u001b[38;5;34m0\u001b[0m │\n",
       "├─────────────────────────────────┼────────────────────────┼───────────────┤\n",
       "│ dropout (\u001b[38;5;33mDropout\u001b[0m)               │ (\u001b[38;5;45mNone\u001b[0m, \u001b[38;5;34m2\u001b[0m, \u001b[38;5;34m2\u001b[0m, \u001b[38;5;34m512\u001b[0m)      │             \u001b[38;5;34m0\u001b[0m │\n",
       "├─────────────────────────────────┼────────────────────────┼───────────────┤\n",
       "│ flatten (\u001b[38;5;33mFlatten\u001b[0m)               │ (\u001b[38;5;45mNone\u001b[0m, \u001b[38;5;34m2048\u001b[0m)           │             \u001b[38;5;34m0\u001b[0m │\n",
       "├─────────────────────────────────┼────────────────────────┼───────────────┤\n",
       "│ dense (\u001b[38;5;33mDense\u001b[0m)                   │ (\u001b[38;5;45mNone\u001b[0m, \u001b[38;5;34m1500\u001b[0m)           │     \u001b[38;5;34m3,073,500\u001b[0m │\n",
       "├─────────────────────────────────┼────────────────────────┼───────────────┤\n",
       "│ dropout_1 (\u001b[38;5;33mDropout\u001b[0m)             │ (\u001b[38;5;45mNone\u001b[0m, \u001b[38;5;34m1500\u001b[0m)           │             \u001b[38;5;34m0\u001b[0m │\n",
       "├─────────────────────────────────┼────────────────────────┼───────────────┤\n",
       "│ dense_1 (\u001b[38;5;33mDense\u001b[0m)                 │ (\u001b[38;5;45mNone\u001b[0m, \u001b[38;5;34m38\u001b[0m)             │        \u001b[38;5;34m57,038\u001b[0m │\n",
       "└─────────────────────────────────┴────────────────────────┴───────────────┘\n"
      ]
     },
     "metadata": {},
     "output_type": "display_data"
    },
    {
     "data": {
      "text/html": [
       "<pre style=\"white-space:pre;overflow-x:auto;line-height:normal;font-family:Menlo,'DejaVu Sans Mono',consolas,'Courier New',monospace\"><span style=\"font-weight: bold\"> Total params: </span><span style=\"color: #00af00; text-decoration-color: #00af00\">7,842,762</span> (29.92 MB)\n",
       "</pre>\n"
      ],
      "text/plain": [
       "\u001b[1m Total params: \u001b[0m\u001b[38;5;34m7,842,762\u001b[0m (29.92 MB)\n"
      ]
     },
     "metadata": {},
     "output_type": "display_data"
    },
    {
     "data": {
      "text/html": [
       "<pre style=\"white-space:pre;overflow-x:auto;line-height:normal;font-family:Menlo,'DejaVu Sans Mono',consolas,'Courier New',monospace\"><span style=\"font-weight: bold\"> Trainable params: </span><span style=\"color: #00af00; text-decoration-color: #00af00\">7,842,762</span> (29.92 MB)\n",
       "</pre>\n"
      ],
      "text/plain": [
       "\u001b[1m Trainable params: \u001b[0m\u001b[38;5;34m7,842,762\u001b[0m (29.92 MB)\n"
      ]
     },
     "metadata": {},
     "output_type": "display_data"
    },
    {
     "data": {
      "text/html": [
       "<pre style=\"white-space:pre;overflow-x:auto;line-height:normal;font-family:Menlo,'DejaVu Sans Mono',consolas,'Courier New',monospace\"><span style=\"font-weight: bold\"> Non-trainable params: </span><span style=\"color: #00af00; text-decoration-color: #00af00\">0</span> (0.00 B)\n",
       "</pre>\n"
      ],
      "text/plain": [
       "\u001b[1m Non-trainable params: \u001b[0m\u001b[38;5;34m0\u001b[0m (0.00 B)\n"
      ]
     },
     "metadata": {},
     "output_type": "display_data"
    }
   ],
   "source": [
    "model.summary()"
   ]
  },
  {
   "cell_type": "markdown",
   "id": "30bb7ad1",
   "metadata": {
    "papermill": {
     "duration": 0.013072,
     "end_time": "2024-07-13T20:05:18.705099",
     "exception": false,
     "start_time": "2024-07-13T20:05:18.692027",
     "status": "completed"
    },
    "tags": []
   },
   "source": [
    "### Training Model"
   ]
  },
  {
   "cell_type": "code",
   "execution_count": 20,
   "id": "2569d00d",
   "metadata": {
    "execution": {
     "iopub.execute_input": "2024-07-13T20:05:18.732783Z",
     "iopub.status.busy": "2024-07-13T20:05:18.731891Z",
     "iopub.status.idle": "2024-07-13T20:25:13.926099Z",
     "shell.execute_reply": "2024-07-13T20:25:13.925164Z"
    },
    "papermill": {
     "duration": 1196.27002,
     "end_time": "2024-07-13T20:25:14.988097",
     "exception": false,
     "start_time": "2024-07-13T20:05:18.718077",
     "status": "completed"
    },
    "tags": []
   },
   "outputs": [
    {
     "name": "stdout",
     "output_type": "stream",
     "text": [
      "Epoch 1/10\n",
      "\u001b[1m   2/2197\u001b[0m \u001b[37m━━━━━━━━━━━━━━━━━━━━\u001b[0m \u001b[1m2:48\u001b[0m 77ms/step - accuracy: 0.0234 - loss: 5.0141   "
     ]
    },
    {
     "name": "stderr",
     "output_type": "stream",
     "text": [
      "WARNING: All log messages before absl::InitializeLog() is called are written to STDERR\n",
      "I0000 00:00:1720901140.764564      79 device_compiler.h:186] Compiled cluster using XLA!  This line is logged at most once for the lifetime of the process.\n",
      "W0000 00:00:1720901140.794555      79 graph_launch.cc:671] Fallback to op-by-op mode because memset node breaks graph update\n"
     ]
    },
    {
     "name": "stdout",
     "output_type": "stream",
     "text": [
      "\u001b[1m2197/2197\u001b[0m \u001b[32m━━━━━━━━━━━━━━━━━━━━\u001b[0m\u001b[37m\u001b[0m \u001b[1m0s\u001b[0m 52ms/step - accuracy: 0.4125 - loss: 2.0901"
     ]
    },
    {
     "name": "stderr",
     "output_type": "stream",
     "text": [
      "W0000 00:00:1720901254.630341      77 graph_launch.cc:671] Fallback to op-by-op mode because memset node breaks graph update\n",
      "W0000 00:00:1720901255.692061      80 graph_launch.cc:671] Fallback to op-by-op mode because memset node breaks graph update\n"
     ]
    },
    {
     "name": "stdout",
     "output_type": "stream",
     "text": [
      "\u001b[1m2197/2197\u001b[0m \u001b[32m━━━━━━━━━━━━━━━━━━━━\u001b[0m\u001b[37m\u001b[0m \u001b[1m162s\u001b[0m 64ms/step - accuracy: 0.4126 - loss: 2.0897 - val_accuracy: 0.8416 - val_loss: 0.4979\n",
      "Epoch 2/10\n",
      "\u001b[1m   3/2197\u001b[0m \u001b[37m━━━━━━━━━━━━━━━━━━━━\u001b[0m \u001b[1m1:39\u001b[0m 45ms/step - accuracy: 0.7639 - loss: 0.7437"
     ]
    },
    {
     "name": "stderr",
     "output_type": "stream",
     "text": [
      "W0000 00:00:1720901280.773755      79 graph_launch.cc:671] Fallback to op-by-op mode because memset node breaks graph update\n"
     ]
    },
    {
     "name": "stdout",
     "output_type": "stream",
     "text": [
      "\u001b[1m2197/2197\u001b[0m \u001b[32m━━━━━━━━━━━━━━━━━━━━\u001b[0m\u001b[37m\u001b[0m \u001b[1m109s\u001b[0m 50ms/step - accuracy: 0.8348 - loss: 0.5214 - val_accuracy: 0.8955 - val_loss: 0.3152\n",
      "Epoch 3/10\n",
      "\u001b[1m2197/2197\u001b[0m \u001b[32m━━━━━━━━━━━━━━━━━━━━\u001b[0m\u001b[37m\u001b[0m \u001b[1m111s\u001b[0m 51ms/step - accuracy: 0.9065 - loss: 0.2870 - val_accuracy: 0.9339 - val_loss: 0.2076\n",
      "Epoch 4/10\n",
      "\u001b[1m2197/2197\u001b[0m \u001b[32m━━━━━━━━━━━━━━━━━━━━\u001b[0m\u001b[37m\u001b[0m \u001b[1m112s\u001b[0m 51ms/step - accuracy: 0.9346 - loss: 0.2004 - val_accuracy: 0.9419 - val_loss: 0.1804\n",
      "Epoch 5/10\n",
      "\u001b[1m2197/2197\u001b[0m \u001b[32m━━━━━━━━━━━━━━━━━━━━\u001b[0m\u001b[37m\u001b[0m \u001b[1m112s\u001b[0m 51ms/step - accuracy: 0.9492 - loss: 0.1482 - val_accuracy: 0.9509 - val_loss: 0.1600\n",
      "Epoch 6/10\n",
      "\u001b[1m2197/2197\u001b[0m \u001b[32m━━━━━━━━━━━━━━━━━━━━\u001b[0m\u001b[37m\u001b[0m \u001b[1m112s\u001b[0m 51ms/step - accuracy: 0.9632 - loss: 0.1123 - val_accuracy: 0.9411 - val_loss: 0.1954\n",
      "Epoch 7/10\n",
      "\u001b[1m2197/2197\u001b[0m \u001b[32m━━━━━━━━━━━━━━━━━━━━\u001b[0m\u001b[37m\u001b[0m \u001b[1m140s\u001b[0m 50ms/step - accuracy: 0.9667 - loss: 0.0982 - val_accuracy: 0.9514 - val_loss: 0.1520\n",
      "Epoch 8/10\n",
      "\u001b[1m2197/2197\u001b[0m \u001b[32m━━━━━━━━━━━━━━━━━━━━\u001b[0m\u001b[37m\u001b[0m \u001b[1m112s\u001b[0m 51ms/step - accuracy: 0.9755 - loss: 0.0743 - val_accuracy: 0.9540 - val_loss: 0.1494\n",
      "Epoch 9/10\n",
      "\u001b[1m2197/2197\u001b[0m \u001b[32m━━━━━━━━━━━━━━━━━━━━\u001b[0m\u001b[37m\u001b[0m \u001b[1m112s\u001b[0m 51ms/step - accuracy: 0.9804 - loss: 0.0590 - val_accuracy: 0.9590 - val_loss: 0.1324\n",
      "Epoch 10/10\n",
      "\u001b[1m2197/2197\u001b[0m \u001b[32m━━━━━━━━━━━━━━━━━━━━\u001b[0m\u001b[37m\u001b[0m \u001b[1m112s\u001b[0m 51ms/step - accuracy: 0.9811 - loss: 0.0589 - val_accuracy: 0.9697 - val_loss: 0.1016\n"
     ]
    }
   ],
   "source": [
    "training_history=model.fit(x=training_set,validation_data=validation_set,epochs=10) "
   ]
  },
  {
   "cell_type": "markdown",
   "id": "00b637db",
   "metadata": {
    "papermill": {
     "duration": 1.06342,
     "end_time": "2024-07-13T20:25:17.032894",
     "exception": false,
     "start_time": "2024-07-13T20:25:15.969474",
     "status": "completed"
    },
    "tags": []
   },
   "source": [
    "# # MODEL EVALUTION "
   ]
  },
  {
   "cell_type": "code",
   "execution_count": 21,
   "id": "2659e399",
   "metadata": {
    "execution": {
     "iopub.execute_input": "2024-07-13T20:25:19.073785Z",
     "iopub.status.busy": "2024-07-13T20:25:19.073436Z",
     "iopub.status.idle": "2024-07-13T20:26:00.032770Z",
     "shell.execute_reply": "2024-07-13T20:26:00.031773Z"
    },
    "papermill": {
     "duration": 42.018441,
     "end_time": "2024-07-13T20:26:00.035197",
     "exception": false,
     "start_time": "2024-07-13T20:25:18.016756",
     "status": "completed"
    },
    "tags": []
   },
   "outputs": [
    {
     "name": "stdout",
     "output_type": "stream",
     "text": [
      "\u001b[1m2197/2197\u001b[0m \u001b[32m━━━━━━━━━━━━━━━━━━━━\u001b[0m\u001b[37m\u001b[0m \u001b[1m35s\u001b[0m 16ms/step - accuracy: 0.9930 - loss: 0.0209\n"
     ]
    },
    {
     "name": "stderr",
     "output_type": "stream",
     "text": [
      "W0000 00:00:1720902354.519636      78 graph_launch.cc:671] Fallback to op-by-op mode because memset node breaks graph update\n"
     ]
    }
   ],
   "source": [
    "train_loss,train_accu=model.evaluate(training_set)\n"
   ]
  },
  {
   "cell_type": "code",
   "execution_count": 22,
   "id": "ff4ae693",
   "metadata": {
    "execution": {
     "iopub.execute_input": "2024-07-13T20:26:02.182741Z",
     "iopub.status.busy": "2024-07-13T20:26:02.182332Z",
     "iopub.status.idle": "2024-07-13T20:26:02.187452Z",
     "shell.execute_reply": "2024-07-13T20:26:02.186538Z"
    },
    "papermill": {
     "duration": 1.067483,
     "end_time": "2024-07-13T20:26:02.189892",
     "exception": false,
     "start_time": "2024-07-13T20:26:01.122409",
     "status": "completed"
    },
    "tags": []
   },
   "outputs": [
    {
     "name": "stdout",
     "output_type": "stream",
     "text": [
      "0.019860515370965004 0.9936126470565796\n"
     ]
    }
   ],
   "source": [
    "print(train_loss,train_accu);"
   ]
  },
  {
   "cell_type": "code",
   "execution_count": 23,
   "id": "db570482",
   "metadata": {
    "execution": {
     "iopub.execute_input": "2024-07-13T20:26:04.291922Z",
     "iopub.status.busy": "2024-07-13T20:26:04.291117Z",
     "iopub.status.idle": "2024-07-13T20:26:13.209880Z",
     "shell.execute_reply": "2024-07-13T20:26:13.208739Z"
    },
    "papermill": {
     "duration": 9.945658,
     "end_time": "2024-07-13T20:26:13.213408",
     "exception": false,
     "start_time": "2024-07-13T20:26:03.267750",
     "status": "completed"
    },
    "tags": []
   },
   "outputs": [
    {
     "name": "stdout",
     "output_type": "stream",
     "text": [
      "\u001b[1m550/550\u001b[0m \u001b[32m━━━━━━━━━━━━━━━━━━━━\u001b[0m\u001b[37m\u001b[0m \u001b[1m9s\u001b[0m 16ms/step - accuracy: 0.9683 - loss: 0.1013\n"
     ]
    }
   ],
   "source": [
    "val_loss,val_accu=model.evaluate(validation_set)"
   ]
  },
  {
   "cell_type": "code",
   "execution_count": 24,
   "id": "976e229c",
   "metadata": {
    "execution": {
     "iopub.execute_input": "2024-07-13T20:26:15.397752Z",
     "iopub.status.busy": "2024-07-13T20:26:15.397383Z",
     "iopub.status.idle": "2024-07-13T20:26:15.402362Z",
     "shell.execute_reply": "2024-07-13T20:26:15.401463Z"
    },
    "papermill": {
     "duration": 1.038624,
     "end_time": "2024-07-13T20:26:15.404565",
     "exception": false,
     "start_time": "2024-07-13T20:26:14.365941",
     "status": "completed"
    },
    "tags": []
   },
   "outputs": [
    {
     "name": "stdout",
     "output_type": "stream",
     "text": [
      "0.10160098969936371 0.9697245359420776\n"
     ]
    }
   ],
   "source": [
    "print(val_loss,val_accu)"
   ]
  },
  {
   "cell_type": "code",
   "execution_count": 25,
   "id": "3ae56066",
   "metadata": {
    "execution": {
     "iopub.execute_input": "2024-07-13T20:26:17.522453Z",
     "iopub.status.busy": "2024-07-13T20:26:17.522019Z",
     "iopub.status.idle": "2024-07-13T20:26:17.529121Z",
     "shell.execute_reply": "2024-07-13T20:26:17.528231Z"
    },
    "papermill": {
     "duration": 1.03377,
     "end_time": "2024-07-13T20:26:17.531235",
     "exception": false,
     "start_time": "2024-07-13T20:26:16.497465",
     "status": "completed"
    },
    "tags": []
   },
   "outputs": [
    {
     "data": {
      "text/plain": [
       "{'accuracy': [0.6079806685447693,\n",
       "  0.8580837845802307,\n",
       "  0.9139910340309143,\n",
       "  0.9395831823348999,\n",
       "  0.953965425491333,\n",
       "  0.964108407497406,\n",
       "  0.970694899559021,\n",
       "  0.9766839742660522,\n",
       "  0.9802119731903076,\n",
       "  0.9821040034294128],\n",
       " 'loss': [1.3335902690887451,\n",
       "  0.44634491205215454,\n",
       "  0.2638501226902008,\n",
       "  0.183333620429039,\n",
       "  0.13696503639221191,\n",
       "  0.10920419543981552,\n",
       "  0.08737988024950027,\n",
       "  0.07255511730909348,\n",
       "  0.06106913089752197,\n",
       "  0.056098341941833496],\n",
       " 'val_accuracy': [0.8416230082511902,\n",
       "  0.8954586982727051,\n",
       "  0.9338720440864563,\n",
       "  0.9418962001800537,\n",
       "  0.9509446620941162,\n",
       "  0.9410994648933411,\n",
       "  0.9513999819755554,\n",
       "  0.9540177583694458,\n",
       "  0.9590257406234741,\n",
       "  0.9697245359420776],\n",
       " 'val_loss': [0.497884601354599,\n",
       "  0.3152198791503906,\n",
       "  0.2075572907924652,\n",
       "  0.1803874671459198,\n",
       "  0.1599828600883484,\n",
       "  0.19540421664714813,\n",
       "  0.15196728706359863,\n",
       "  0.14942340552806854,\n",
       "  0.13240061700344086,\n",
       "  0.1016010120511055]}"
      ]
     },
     "execution_count": 25,
     "metadata": {},
     "output_type": "execute_result"
    }
   ],
   "source": [
    "training_history.history"
   ]
  },
  {
   "cell_type": "markdown",
   "id": "485b57d1",
   "metadata": {
    "papermill": {
     "duration": 1.030934,
     "end_time": "2024-07-13T20:26:19.662527",
     "exception": false,
     "start_time": "2024-07-13T20:26:18.631593",
     "status": "completed"
    },
    "tags": []
   },
   "source": [
    "# Accuracy Visualization"
   ]
  },
  {
   "cell_type": "code",
   "execution_count": 26,
   "id": "261057f8",
   "metadata": {
    "execution": {
     "iopub.execute_input": "2024-07-13T20:26:21.842717Z",
     "iopub.status.busy": "2024-07-13T20:26:21.841576Z",
     "iopub.status.idle": "2024-07-13T20:26:22.259868Z",
     "shell.execute_reply": "2024-07-13T20:26:22.258959Z"
    },
    "papermill": {
     "duration": 1.482995,
     "end_time": "2024-07-13T20:26:22.261981",
     "exception": false,
     "start_time": "2024-07-13T20:26:20.778986",
     "status": "completed"
    },
    "tags": []
   },
   "outputs": [
    {
     "data": {
      "image/png": "[encoded data removed]",
      "text/plain": [
       "<Figure size 640x480 with 1 Axes>"
      ]
     },
     "metadata": {},
     "output_type": "display_data"
    }
   ],
   "source": [
    "epochs = [i for i in range(1, 11)]\n",
    "plt.plot(epochs, training_history.history['accuracy'], color='red', label='training_accuracy')\n",
    "plt.plot(epochs, training_history.history['val_accuracy'], color='blue', label='validation_accuracy')\n",
    "plt.xlabel(\"No. of epochs\")\n",
    "plt.ylabel(\"Accuracy results\")\n",
    "plt.title(\"Visualization of accuracy result\")\n",
    "plt.legend()\n",
    "plt.show()     "
   ]
  },
  {
   "cell_type": "code",
   "execution_count": 27,
   "id": "1d49d3e6",
   "metadata": {
    "execution": {
     "iopub.execute_input": "2024-07-13T20:26:24.400595Z",
     "iopub.status.busy": "2024-07-13T20:26:24.400198Z",
     "iopub.status.idle": "2024-07-13T20:26:24.406143Z",
     "shell.execute_reply": "2024-07-13T20:26:24.404778Z"
    },
    "papermill": {
     "duration": 1.10043,
     "end_time": "2024-07-13T20:26:24.408297",
     "exception": false,
     "start_time": "2024-07-13T20:26:23.307867",
     "status": "completed"
    },
    "tags": []
   },
   "outputs": [],
   "source": [
    "import json \n",
    "with open(\"/kaggle/working/training_history.json\",\"w\") as f:\n",
    "    json.dump(training_history.history['accuracy'],f)"
   ]
  },
  {
   "cell_type": "code",
   "execution_count": 28,
   "id": "dece80a9",
   "metadata": {
    "execution": {
     "iopub.execute_input": "2024-07-13T20:26:26.570828Z",
     "iopub.status.busy": "2024-07-13T20:26:26.570014Z",
     "iopub.status.idle": "2024-07-13T20:26:27.081901Z",
     "shell.execute_reply": "2024-07-13T20:26:27.081058Z"
    },
    "papermill": {
     "duration": 1.617613,
     "end_time": "2024-07-13T20:26:27.084228",
     "exception": false,
     "start_time": "2024-07-13T20:26:25.466615",
     "status": "completed"
    },
    "tags": []
   },
   "outputs": [],
   "source": [
    "model_path='/kaggle/working/plant-diseases-model.keras'\n",
    "model.save(model_path)"
   ]
  },
  {
   "cell_type": "code",
   "execution_count": 29,
   "id": "26c39606",
   "metadata": {
    "execution": {
     "iopub.execute_input": "2024-07-13T20:26:29.208488Z",
     "iopub.status.busy": "2024-07-13T20:26:29.207556Z",
     "iopub.status.idle": "2024-07-13T20:26:29.214790Z",
     "shell.execute_reply": "2024-07-13T20:26:29.213827Z"
    },
    "papermill": {
     "duration": 1.10615,
     "end_time": "2024-07-13T20:26:29.216917",
     "exception": false,
     "start_time": "2024-07-13T20:26:28.110767",
     "status": "completed"
    },
    "tags": []
   },
   "outputs": [
    {
     "data": {
      "text/plain": [
       "['Apple___Apple_scab',\n",
       " 'Apple___Black_rot',\n",
       " 'Apple___Cedar_apple_rust',\n",
       " 'Apple___healthy',\n",
       " 'Blueberry___healthy',\n",
       " 'Cherry_(including_sour)___Powdery_mildew',\n",
       " 'Cherry_(including_sour)___healthy',\n",
       " 'Corn_(maize)___Cercospora_leaf_spot Gray_leaf_spot',\n",
       " 'Corn_(maize)___Common_rust_',\n",
       " 'Corn_(maize)___Northern_Leaf_Blight',\n",
       " 'Corn_(maize)___healthy',\n",
       " 'Grape___Black_rot',\n",
       " 'Grape___Esca_(Black_Measles)',\n",
       " 'Grape___Leaf_blight_(Isariopsis_Leaf_Spot)',\n",
       " 'Grape___healthy',\n",
       " 'Orange___Haunglongbing_(Citrus_greening)',\n",
       " 'Peach___Bacterial_spot',\n",
       " 'Peach___healthy',\n",
       " 'Pepper,_bell___Bacterial_spot',\n",
       " 'Pepper,_bell___healthy',\n",
       " 'Potato___Early_blight',\n",
       " 'Potato___Late_blight',\n",
       " 'Potato___healthy',\n",
       " 'Raspberry___healthy',\n",
       " 'Soybean___healthy',\n",
       " 'Squash___Powdery_mildew',\n",
       " 'Strawberry___Leaf_scorch',\n",
       " 'Strawberry___healthy',\n",
       " 'Tomato___Bacterial_spot',\n",
       " 'Tomato___Early_blight',\n",
       " 'Tomato___Late_blight',\n",
       " 'Tomato___Leaf_Mold',\n",
       " 'Tomato___Septoria_leaf_spot',\n",
       " 'Tomato___Spider_mites Two-spotted_spider_mite',\n",
       " 'Tomato___Target_Spot',\n",
       " 'Tomato___Tomato_Yellow_Leaf_Curl_Virus',\n",
       " 'Tomato___Tomato_mosaic_virus',\n",
       " 'Tomato___healthy']"
      ]
     },
     "execution_count": 29,
     "metadata": {},
     "output_type": "execute_result"
    }
   ],
   "source": [
    "class_name=validation_set.class_names\n",
    "class_name"
   ]
  },
  {
   "cell_type": "code",
   "execution_count": null,
   "id": "224993ee",
   "metadata": {
    "papermill": {
     "duration": 1.103927,
     "end_time": "2024-07-13T20:26:31.358975",
     "exception": false,
     "start_time": "2024-07-13T20:26:30.255048",
     "status": "completed"
    },
    "tags": []
   },
   "outputs": [],
   "source": []
  }
 ],
 "metadata": {
  "kaggle": {
   "accelerator": "nvidiaTeslaT4",
   "dataSources": [
    {
     "datasetId": 78313,
     "sourceId": 182633,
     "sourceType": "datasetVersion"
    }
   ],
   "isGpuEnabled": true,
   "isInternetEnabled": true,
   "language": "python",
   "sourceType": "notebook"
  },
  "kernelspec": {
   "display_name": "Python 3",
   "language": "python",
   "name": "python3"
  },
  "language_info": {
   "codemirror_mode": {
    "name": "ipython",
    "version": 3
   },
   "file_extension": ".py",
   "mimetype": "text/x-python",
   "name": "python",
   "nbconvert_exporter": "python",
   "pygments_lexer": "ipython3",
   "version": "3.11.7"
  },
  "papermill": {
   "default_parameters": {},
   "duration": 1328.76904,
   "end_time": "2024-07-13T20:26:35.402140",
   "environment_variables": {},
   "exception": null,
   "input_path": "__notebook__.ipynb",
   "output_path": "__notebook__.ipynb",
   "parameters": {},
   "start_time": "2024-07-13T20:04:26.633100",
   "version": "2.5.0"
  }
 },
 "nbformat": 4,
 "nbformat_minor": 5
}
